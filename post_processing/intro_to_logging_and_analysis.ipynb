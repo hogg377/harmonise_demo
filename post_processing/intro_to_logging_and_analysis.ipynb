{
 "cells": [
  {
   "cell_type": "markdown",
   "metadata": {},
   "source": [
    "# Introduction to post processing and logging with the Empowered Herding simulation\n",
    "This notebook is intended to provide a high-level overview of the logging from the Empowered Herding simulation.  It's not exhausive documentation(!).\n",
    "\n",
    "Some terms used in this document are:\n",
    "- **User / Participant** - the person undertaking the experiment\n",
    "- **Session** - a single instance of the experiment.  A session starts when the program is first loaded and ends when the program closes.  A session contains multiple trials.\n",
    "- **Trial** - a single episode of the herding \"game\".\n",
    "\n",
    "\n",
    "Original author: Chris Bennett (christopher.bennett@bristol.ac.uk)\n",
    "\n",
    "Last update: 14/06/2022"
   ]
  },
  {
   "cell_type": "markdown",
   "metadata": {},
   "source": [
    "## Files\n",
    "\n",
    "The simulation logs are stored in a direction named with the session id which generated them.  The format of the session id is \"yyyymmddThhmmss\" e.g. \"20220604T151812\".  This is the date and time (in ISO 8601 format) when the data was collected.\n",
    "\n",
    "The following .pkl files should be present in the directory:\n",
    "\n",
    " - **user_details**: stores the participant's responses to questions about themselves e.g. whether english is their first language, date of birth etc.\n",
    " - **post_test_responses**: stores the participant's responses to the questions asked after each trial e.g. \"the sliders\".\n",
    " - **config_fam_X_simlog**: the simulation data (sim_data) from the familiration trials.  \n",
    "     - X is numbered 1-4\n",
    " - **config_exp_X_Y_Z**: the simuulation data (sim_data) from the experimental trials.  \n",
    "     - X is numbered 1-12\n",
    "     - Y is either \n",
    "         - absent  (the simulation did not show the state of the dogs empowerement to the participant during the trial)\n",
    "         - \"empshown\" (empowerment information was shown)\n",
    "     - Z is either\n",
    "         - absent (empowerment was calculated using the \"vanilla\" method where all states in which the dog changes the state of the flock are counted)\n",
    "         - \"taskweighted\" (empowerment was calculated using a method which ones uses states in which the dog effected a change in the flock which moved the flock closer to the goal)"
   ]
  },
  {
   "cell_type": "markdown",
   "metadata": {},
   "source": [
    "## Data structures\n",
    "\n",
    "This notebook gives examples for loading the raw data logged by the empowered herding experiment and turning it into (slightly) more user friendly formats.\n",
    "\n",
    "After running the cells below, the following view of the data should be available:\n",
    "\n",
    " - **user_details_df**: a pandas dataframe storing the participant's answers to screening and consent questions\n",
    " - **user_responses_df**: a panads dataframe storing the participant's answer to each post-test questionaire (i.e. the sliders). \n",
    "     - *user_responses_df.attrs* is a dictionary with two keys: \n",
    "         - 'session_id' (the unique identifier for session) \n",
    "         - 'test_order' (the names of the config files in the order they were presented to the participant)\n",
    " - **events_df** : a pandas data frame which stores everything the user did during the simulation\n",
    " - **sim_data['sheep_logs']** : a dictionary referenced by the agent's id which stores when the sheep agent was created, removed and its positions in a structure of type type SimLog.AgentState\n",
    " - **sim_data['dog_logs']** : a dictionary referenced by the agent's id which stores when the dog agent was created, removed and its positions in a structure of type type SimLog.AgentState\n",
    " \n",
    "See the section [\"Simulation Log Files\"](#simulation_log_files) for a walk through for how the simulation stores the actions and state of the simulation at each time step.  \n",
    "\n",
    "\n",
    "         \n",
    "         \n",
    " \n",
    "\n",
    "\n"
   ]
  },
  {
   "cell_type": "markdown",
   "metadata": {},
   "source": [
    "# Setting up the Environment\n",
    "\n",
    "You will need to edit the paths to match where the simulation logs and empowered_herding program are located\n",
    "\n",
    "Set the session_id to the unique identifier of the experiment you want to analyse"
   ]
  },
  {
   "cell_type": "code",
   "execution_count": 19,
   "metadata": {},
   "outputs": [],
   "source": [
    "import os\n",
    "import numpy as np\n",
    "import pickle\n",
    "import glob\n",
    "import pandas as pd\n",
    "user_home_dir = os.path.expanduser('~')\n",
    "\n",
    "#change this to where the empowered herding model is \n",
    "os.chdir('C:\\\\Users\\\\zi18494\\\\OneDrive - University of Bristol\\\\00_Simulation\\\\Github\\\\empowered_herding')\n",
    "\n",
    "#change this to the name of the session to be analysed\n",
    "session_id = \"20220614T164059\"\n",
    "\n",
    "#change this to match where the logs are stored\n",
    "base_path = os.path.join(user_home_dir, \"OneDrive - University of Bristol\\\\00_Simulation\\\\Github\\\\empowered_herding\\\\logs\")\n",
    "#base_path = os.path.join(user_home_dir, \"OneDrive - University of Bristol\\\\Empowerment Results\")\n",
    "\n",
    "path = os.path.join(base_path, session_id)\n",
    "\n",
    "#change this to match the name of a single log file of the form config_XXXXXX_simlog.pkl \n",
    "log_file_name = \"config_exp_1_empshown_taskweighted_simlog.pkl\""
   ]
  },
  {
   "cell_type": "code",
   "execution_count": 5,
   "metadata": {},
   "outputs": [],
   "source": [
    "# this is needed as a work around to handle simulation logs created as part of the beta testing\n",
    "import io\n",
    "class RenameUnpickler(pickle.Unpickler):\n",
    "    def find_class(self, module, name):\n",
    "        renamed_module = module\n",
    "        if module == \"model.SimLog\":\n",
    "            renamed_module = \"model.SimLogBetaVersion\"\n",
    "\n",
    "        return super(RenameUnpickler, self).find_class(renamed_module, name)\n",
    "\n",
    "def renamed_load(file_obj):\n",
    "    return RenameUnpickler(file_obj).load()"
   ]
  },
  {
   "cell_type": "markdown",
   "metadata": {},
   "source": [
    "# Retrieving the Participant's Details\n",
    "These are the details the participant entered in response to the screening questions and consent forms"
   ]
  },
  {
   "cell_type": "code",
   "execution_count": 6,
   "metadata": {},
   "outputs": [],
   "source": [
    "#Load the participant's responses\n",
    "with open(os.path.join(path,\"user_details.pkl\"), \"rb\") as input_file:\n",
    "    user_details = pickle.load(input_file)"
   ]
  },
  {
   "cell_type": "code",
   "execution_count": 7,
   "metadata": {},
   "outputs": [
    {
     "name": "stdout",
     "output_type": "stream",
     "text": [
      "These are the participant's details\n",
      "---------------------------\n",
      "Session ID was 20220614T164059\n",
      "User details where {'english': (('Yes', 0), 0), 'colour': (('No', 1), 1), 'birth': 'bn', 'sex': 'hgj', 'vision': (('No', 1), 1)}\n"
     ]
    }
   ],
   "source": [
    "print(\"These are the participant's details\")\n",
    "print(\"---------------------------\")\n",
    "print(f\"Session ID was {user_details[0]}\")\n",
    "print(f\"User details where {user_details[1]}\")"
   ]
  },
  {
   "cell_type": "markdown",
   "metadata": {},
   "source": [
    "And as a pandas data frame"
   ]
  },
  {
   "cell_type": "code",
   "execution_count": 10,
   "metadata": {},
   "outputs": [
    {
     "data": {
      "text/html": [
       "<div>\n",
       "<style scoped>\n",
       "    .dataframe tbody tr th:only-of-type {\n",
       "        vertical-align: middle;\n",
       "    }\n",
       "\n",
       "    .dataframe tbody tr th {\n",
       "        vertical-align: top;\n",
       "    }\n",
       "\n",
       "    .dataframe thead th {\n",
       "        text-align: right;\n",
       "    }\n",
       "</style>\n",
       "<table border=\"1\" class=\"dataframe\">\n",
       "  <thead>\n",
       "    <tr style=\"text-align: right;\">\n",
       "      <th></th>\n",
       "      <th>english</th>\n",
       "      <th>colour</th>\n",
       "      <th>birth</th>\n",
       "      <th>sex</th>\n",
       "      <th>vision</th>\n",
       "    </tr>\n",
       "  </thead>\n",
       "  <tbody>\n",
       "    <tr>\n",
       "      <th>0</th>\n",
       "      <td>Y</td>\n",
       "      <td>N</td>\n",
       "      <td>bn</td>\n",
       "      <td>hgj</td>\n",
       "      <td>N</td>\n",
       "    </tr>\n",
       "  </tbody>\n",
       "</table>\n",
       "</div>"
      ],
      "text/plain": [
       "  english colour birth  sex vision\n",
       "0       Y      N    bn  hgj      N"
      ]
     },
     "execution_count": 10,
     "metadata": {},
     "output_type": "execute_result"
    }
   ],
   "source": [
    "user_details_simple = user_details[1]\n",
    "user_details_simple['english'] = user_details_simple['english'][0][0]\n",
    "user_details_simple['colour'] = user_details_simple['colour'][0][0]\n",
    "user_details_simple['vision'] = user_details_simple['vision'][0][0]\n",
    "user_details_df =  pd.DataFrame(user_details_simple, index=[0])\n",
    "user_details_df"
   ]
  },
  {
   "cell_type": "markdown",
   "metadata": {},
   "source": [
    "# Retrieving the Participant's Responses to the Post-Trial Questions\n",
    "These are the responses the participant made with the sliders after each experiment"
   ]
  },
  {
   "cell_type": "code",
   "execution_count": 11,
   "metadata": {},
   "outputs": [],
   "source": [
    "with open(os.path.join(path,\"post_test_responses.pkl\"), \"rb\") as input_file:\n",
    "    test_responses = pickle.load(input_file)"
   ]
  },
  {
   "cell_type": "code",
   "execution_count": 12,
   "metadata": {},
   "outputs": [
    {
     "name": "stdout",
     "output_type": "stream",
     "text": [
      "['20220614T164059', ['config_exp_2_taskweighted', 'config_exp_1_taskweighted', 'config_exp_1_empshown_taskweighted', 'config_exp_2_empshown_taskweighted'], {'config_exp_2_taskweighted': {'time': 1.0, 'engaged': 0, 'part_of_team': 0}, 'config_exp_1_taskweighted': {'time': 2.0, 'engaged': 1, 'part_of_team': 1}, 'config_exp_1_empshown_taskweighted': {'time': 3.0, 'engaged': 2, 'part_of_team': 2}, 'config_exp_2_empshown_taskweighted': {'time': 4.0, 'engaged': 3, 'part_of_team': 3}}]\n"
     ]
    }
   ],
   "source": [
    "print(test_responses)"
   ]
  },
  {
   "cell_type": "markdown",
   "metadata": {},
   "source": [
    "and as a pandas dataframe"
   ]
  },
  {
   "cell_type": "code",
   "execution_count": 13,
   "metadata": {},
   "outputs": [],
   "source": [
    "#convert all the user responses into a pandas dataframe table\n",
    "user_responses_df = pd.DataFrame.from_dict(test_responses[2], orient='index')\n",
    "user_responses_df.attrs = {'session_id': test_responses[0], 'test_order' :  test_responses[1]}"
   ]
  },
  {
   "cell_type": "code",
   "execution_count": 14,
   "metadata": {},
   "outputs": [
    {
     "data": {
      "text/html": [
       "<div>\n",
       "<style scoped>\n",
       "    .dataframe tbody tr th:only-of-type {\n",
       "        vertical-align: middle;\n",
       "    }\n",
       "\n",
       "    .dataframe tbody tr th {\n",
       "        vertical-align: top;\n",
       "    }\n",
       "\n",
       "    .dataframe thead th {\n",
       "        text-align: right;\n",
       "    }\n",
       "</style>\n",
       "<table border=\"1\" class=\"dataframe\">\n",
       "  <thead>\n",
       "    <tr style=\"text-align: right;\">\n",
       "      <th></th>\n",
       "      <th>time</th>\n",
       "      <th>engaged</th>\n",
       "      <th>part_of_team</th>\n",
       "    </tr>\n",
       "  </thead>\n",
       "  <tbody>\n",
       "    <tr>\n",
       "      <th>config_exp_2_taskweighted</th>\n",
       "      <td>1.0</td>\n",
       "      <td>0</td>\n",
       "      <td>0</td>\n",
       "    </tr>\n",
       "    <tr>\n",
       "      <th>config_exp_1_taskweighted</th>\n",
       "      <td>2.0</td>\n",
       "      <td>1</td>\n",
       "      <td>1</td>\n",
       "    </tr>\n",
       "    <tr>\n",
       "      <th>config_exp_1_empshown_taskweighted</th>\n",
       "      <td>3.0</td>\n",
       "      <td>2</td>\n",
       "      <td>2</td>\n",
       "    </tr>\n",
       "    <tr>\n",
       "      <th>config_exp_2_empshown_taskweighted</th>\n",
       "      <td>4.0</td>\n",
       "      <td>3</td>\n",
       "      <td>3</td>\n",
       "    </tr>\n",
       "  </tbody>\n",
       "</table>\n",
       "</div>"
      ],
      "text/plain": [
       "                                    time  engaged  part_of_team\n",
       "config_exp_2_taskweighted            1.0        0             0\n",
       "config_exp_1_taskweighted            2.0        1             1\n",
       "config_exp_1_empshown_taskweighted   3.0        2             2\n",
       "config_exp_2_empshown_taskweighted   4.0        3             3"
      ]
     },
     "execution_count": 14,
     "metadata": {},
     "output_type": "execute_result"
    }
   ],
   "source": [
    "user_responses_df"
   ]
  },
  {
   "cell_type": "code",
   "execution_count": 15,
   "metadata": {},
   "outputs": [],
   "source": [
    "#Play it safe and sort the data frame in the order the experiments were run (it should already be in this order..)\n",
    "idx = user_responses_df.index == user_responses_df.attrs['test_order']\n",
    "user_responses_df = user_responses_df[idx]"
   ]
  },
  {
   "cell_type": "code",
   "execution_count": 16,
   "metadata": {
    "scrolled": true
   },
   "outputs": [
    {
     "name": "stdout",
     "output_type": "stream",
     "text": [
      "Session ID: 20220614T164059\n",
      "in the order tested, responses where\n"
     ]
    },
    {
     "data": {
      "text/html": [
       "<div>\n",
       "<style scoped>\n",
       "    .dataframe tbody tr th:only-of-type {\n",
       "        vertical-align: middle;\n",
       "    }\n",
       "\n",
       "    .dataframe tbody tr th {\n",
       "        vertical-align: top;\n",
       "    }\n",
       "\n",
       "    .dataframe thead th {\n",
       "        text-align: right;\n",
       "    }\n",
       "</style>\n",
       "<table border=\"1\" class=\"dataframe\">\n",
       "  <thead>\n",
       "    <tr style=\"text-align: right;\">\n",
       "      <th></th>\n",
       "      <th>time</th>\n",
       "      <th>engaged</th>\n",
       "      <th>part_of_team</th>\n",
       "    </tr>\n",
       "  </thead>\n",
       "  <tbody>\n",
       "    <tr>\n",
       "      <th>config_exp_2_taskweighted</th>\n",
       "      <td>1.0</td>\n",
       "      <td>0</td>\n",
       "      <td>0</td>\n",
       "    </tr>\n",
       "    <tr>\n",
       "      <th>config_exp_1_taskweighted</th>\n",
       "      <td>2.0</td>\n",
       "      <td>1</td>\n",
       "      <td>1</td>\n",
       "    </tr>\n",
       "    <tr>\n",
       "      <th>config_exp_1_empshown_taskweighted</th>\n",
       "      <td>3.0</td>\n",
       "      <td>2</td>\n",
       "      <td>2</td>\n",
       "    </tr>\n",
       "    <tr>\n",
       "      <th>config_exp_2_empshown_taskweighted</th>\n",
       "      <td>4.0</td>\n",
       "      <td>3</td>\n",
       "      <td>3</td>\n",
       "    </tr>\n",
       "  </tbody>\n",
       "</table>\n",
       "</div>"
      ],
      "text/plain": [
       "                                    time  engaged  part_of_team\n",
       "config_exp_2_taskweighted            1.0        0             0\n",
       "config_exp_1_taskweighted            2.0        1             1\n",
       "config_exp_1_empshown_taskweighted   3.0        2             2\n",
       "config_exp_2_empshown_taskweighted   4.0        3             3"
      ]
     },
     "execution_count": 16,
     "metadata": {},
     "output_type": "execute_result"
    }
   ],
   "source": [
    "print(f\"Session ID: {user_responses_df.attrs['session_id']}\")\n",
    "#print(f\"test order was {user_responses_df.attrs['test_order']}\")\n",
    "print(\"in the order tested, responses where\")\n",
    "user_responses_df"
   ]
  },
  {
   "cell_type": "markdown",
   "metadata": {},
   "source": [
    "<a id='simulation_log_files'></a>\n",
    "# Simulation Log Files\n",
    "\n",
    "Each trial creates a single file named config_XXXXXX_simlog.pkl where XXXXX describes the parameters used during the trial.  \n",
    "\n",
    "There (should be!) multiple files with this format inside the directory for a single experiment.\n",
    "\n",
    "This section follows an example of opening and reading a single log file.\n",
    "\n",
    "The commands and approach of this section can be extended to open, process and examine multiple files e.g. if we want to compare the performance of different participants."
   ]
  },
  {
   "cell_type": "markdown",
   "metadata": {},
   "source": [
    "The first step is to load the file.\n",
    "\n",
    "Note, the module *\"model/SimLog.py\"* needs to be in the current directory - *Need to check this and confirm*"
   ]
  },
  {
   "cell_type": "code",
   "execution_count": 20,
   "metadata": {},
   "outputs": [],
   "source": [
    "try_old_version_b = False\n",
    "try:\n",
    "    with open(os.path.join(path, log_file_name), \"rb\") as input_file:\n",
    "        sim_data = pickle.load(input_file)\n",
    "except:\n",
    "    # the beta sessions created logs using a slightly different version of the data structures\n",
    "    # (the only difference was userInputs instead of UserInputs!!)\n",
    "    # Unfortunately, this means we need to explicitly tell pickle to use a different version of the SimLog\n",
    "    # This work around was taken from https://stackoverflow.com/questions/2121874/python-pickling-after-changing-a-modules-directory\n",
    "    try_old_version_b = True\n",
    "\n",
    "if try_old_version_b:\n",
    "    with open(os.path.join(path, log_file_name), \"rb\") as input_file:\n",
    "        sim_data = renamed_load(input_file)        "
   ]
  },
  {
   "cell_type": "markdown",
   "metadata": {},
   "source": [
    "sim_data is a dictionary which makes uses of two data structures called userInputs* and AgentState to store all the activity which occured during an experiment.\n",
    "*ok, so bad coding here, this should be capatalised for consistency but \n",
    "\n",
    "It has the following five keys:\n",
    "\n",
    "- **dog_logs** : a dictionary keyed by agent id, stores a log of the state of each dog i.e., \n",
    "                  { 1 : AgentState, 2 : AgentState,...dog_id:AgentState,...#Dogs:AgentState}\n",
    "- **sheep_logs** : a dictionary keyed by agent id, stores a log of the state of each sheep i.e., \n",
    "                  { 10000 : AgentState, 10001 : AgentState,...sheep_id:AgentState,...10000+#Sheep:AgentState}\n",
    "    \n",
    "- **world_at_t** : a dictionary keyed by simulation step, stores the ids and positions of all the agents present in the world at each simulation step i.e.,\n",
    "                 t : {  'ids' : 1d numpy array, \n",
    "                        'positions' : 2d numpy array where the ith row relates position of the ith id}\n",
    "                        \n",
    "- **user_log** :  a data structure which stores all the user interactions which occured during the simulation. It has two parts \n",
    "    - *user_log.events_at_t* : the agent events which were caused by user input\n",
    "    - *user_log.input_at_t* : the user inputs (button presses, times and locations)\n",
    "                    \n",
    "                    \n",
    "- **meta_data**: a dictionary which stores information about the simulation.\n",
    "    - **config_name**: the name of the config which set the simulation parameters\n",
    "    - **session_id**: the identifer for the **session** and also the time at which the **session** was started. Note, the session id is **not** the start time of the trial.\n",
    "    - **start_time**: the time at which the **trial** started\n",
    "    - **end_time**: the time at which the **trial** ended\n",
    "    - **taskweighted_empowerment**: True if the empowerement was calculated using a task weighted approach\n",
    "    - **empowerment_shown**: True if empowerment information (via colour of the dog) was shown to the participant\n",
    "                    \n",
    "    \n",
    "\n",
    "Note, the dog ids start at 1 and the sheep ids start at 10,000.  This is a legacy from the simulations more humble beginnings.  If more than 9,999 dogs are used then the logging will break (although this is practically impossible with a time limit of 2 mins (ish) and a limit of 10 concurrent dogs)\n",
    "                        \n",
    "                 \n",
    "    \n",
    "\n",
    "\n"
   ]
  },
  {
   "cell_type": "code",
   "execution_count": 21,
   "metadata": {},
   "outputs": [
    {
     "name": "stdout",
     "output_type": "stream",
     "text": [
      "The complete simulation data file for session 20220614T164059, log file config_exp_1_empshown_taskweighted_simlog.pkl\n"
     ]
    },
    {
     "data": {
      "text/plain": [
       "{'dog_logs': {1: <model.SimLog.AgentState at 0x1b5b82c49a0>,\n",
       "  2: <model.SimLog.AgentState at 0x1b5ba6443a0>,\n",
       "  3: <model.SimLog.AgentState at 0x1b5ba78f8b0>,\n",
       "  4: <model.SimLog.AgentState at 0x1b5ba78fb20>},\n",
       " 'sheep_logs': {10000: <model.SimLog.AgentState at 0x1b5ba64fca0>,\n",
       "  10001: <model.SimLog.AgentState at 0x1b5ba7b5130>,\n",
       "  10002: <model.SimLog.AgentState at 0x1b5ba7b5280>,\n",
       "  10003: <model.SimLog.AgentState at 0x1b5ba7b53d0>,\n",
       "  10004: <model.SimLog.AgentState at 0x1b5ba7b5520>},\n",
       " 'world_at_t': {0: {'ids': array([1.0000e+00, 1.0000e+04, 1.0001e+04, 1.0002e+04, 1.0003e+04,\n",
       "          1.0004e+04]),\n",
       "   'positions': array([[ 8.,  8.],\n",
       "          [20., 20.],\n",
       "          [22., 19.],\n",
       "          [19., 22.],\n",
       "          [23., 21.],\n",
       "          [21., 23.]])},\n",
       "  1: {'ids': array([1.0000e+00, 1.0000e+04, 1.0001e+04, 1.0002e+04, 1.0003e+04,\n",
       "          1.0004e+04]),\n",
       "   'positions': array([[ 8.,  8.],\n",
       "          [20., 20.],\n",
       "          [22., 19.],\n",
       "          [19., 22.],\n",
       "          [23., 21.],\n",
       "          [21., 23.]])},\n",
       "  2: {'ids': array([1.0000e+00, 1.0000e+04, 1.0001e+04, 1.0002e+04, 1.0003e+04,\n",
       "          1.0004e+04]),\n",
       "   'positions': array([[ 9.,  9.],\n",
       "          [20., 20.],\n",
       "          [22., 19.],\n",
       "          [19., 22.],\n",
       "          [23., 21.],\n",
       "          [21., 23.]])},\n",
       "  3: {'ids': array([1.0000e+00, 1.0000e+04, 1.0001e+04, 1.0002e+04, 1.0003e+04,\n",
       "          1.0004e+04]),\n",
       "   'positions': array([[10., 10.],\n",
       "          [20., 20.],\n",
       "          [22., 19.],\n",
       "          [19., 22.],\n",
       "          [23., 21.],\n",
       "          [21., 23.]])},\n",
       "  4: {'ids': array([1.0000e+00, 1.0000e+04, 1.0001e+04, 1.0002e+04, 1.0003e+04,\n",
       "          1.0004e+04]),\n",
       "   'positions': array([[11., 11.],\n",
       "          [20., 20.],\n",
       "          [22., 19.],\n",
       "          [19., 22.],\n",
       "          [23., 21.],\n",
       "          [21., 23.]])},\n",
       "  5: {'ids': array([1.0000e+00, 1.0000e+04, 1.0001e+04, 1.0002e+04, 1.0003e+04,\n",
       "          1.0004e+04]),\n",
       "   'positions': array([[12., 12.],\n",
       "          [20., 20.],\n",
       "          [22., 19.],\n",
       "          [19., 22.],\n",
       "          [23., 21.],\n",
       "          [21., 23.]])},\n",
       "  6: {'ids': array([1.0000e+00, 1.0000e+04, 1.0001e+04, 1.0002e+04, 1.0003e+04,\n",
       "          1.0004e+04]),\n",
       "   'positions': array([[12., 12.],\n",
       "          [20., 20.],\n",
       "          [22., 19.],\n",
       "          [19., 22.],\n",
       "          [23., 21.],\n",
       "          [21., 23.]])},\n",
       "  7: {'ids': array([1.0000e+00, 1.0000e+04, 1.0001e+04, 1.0002e+04, 1.0003e+04,\n",
       "          1.0004e+04]),\n",
       "   'positions': array([[13., 13.],\n",
       "          [20., 20.],\n",
       "          [22., 19.],\n",
       "          [19., 22.],\n",
       "          [23., 21.],\n",
       "          [21., 23.]])},\n",
       "  8: {'ids': array([1.0000e+00, 1.0000e+04, 1.0001e+04, 1.0002e+04, 1.0003e+04,\n",
       "          1.0004e+04]),\n",
       "   'positions': array([[14., 14.],\n",
       "          [20., 20.],\n",
       "          [22., 19.],\n",
       "          [19., 22.],\n",
       "          [23., 21.],\n",
       "          [21., 23.]])},\n",
       "  9: {'ids': array([1.0000e+00, 1.0000e+04, 1.0001e+04, 1.0002e+04, 1.0003e+04,\n",
       "          1.0004e+04]),\n",
       "   'positions': array([[15., 15.],\n",
       "          [20., 20.],\n",
       "          [22., 19.],\n",
       "          [19., 22.],\n",
       "          [23., 21.],\n",
       "          [21., 23.]])},\n",
       "  10: {'ids': array([1.0000e+00, 1.0000e+04, 1.0001e+04, 1.0002e+04, 1.0003e+04,\n",
       "          1.0004e+04]),\n",
       "   'positions': array([[16., 16.],\n",
       "          [20., 20.],\n",
       "          [22., 19.],\n",
       "          [19., 22.],\n",
       "          [23., 21.],\n",
       "          [21., 23.]])},\n",
       "  11: {'ids': array([1.0000e+00, 1.0000e+04, 1.0001e+04, 1.0002e+04, 1.0003e+04,\n",
       "          1.0004e+04]),\n",
       "   'positions': array([[16., 16.],\n",
       "          [20., 20.],\n",
       "          [22., 19.],\n",
       "          [19., 22.],\n",
       "          [23., 21.],\n",
       "          [21., 23.]])},\n",
       "  12: {'ids': array([1.0000e+00, 1.0000e+04, 1.0001e+04, 1.0002e+04, 1.0003e+04,\n",
       "          1.0004e+04]),\n",
       "   'positions': array([[17., 17.],\n",
       "          [20., 20.],\n",
       "          [22., 19.],\n",
       "          [19., 22.],\n",
       "          [23., 21.],\n",
       "          [21., 23.]])},\n",
       "  13: {'ids': array([1.0000e+00, 2.0000e+00, 1.0000e+04, 1.0001e+04, 1.0002e+04,\n",
       "          1.0003e+04, 1.0004e+04]),\n",
       "   'positions': array([[18., 18.],\n",
       "          [ 7., 37.],\n",
       "          [20., 20.],\n",
       "          [22., 19.],\n",
       "          [19., 22.],\n",
       "          [23., 21.],\n",
       "          [21., 23.]])},\n",
       "  14: {'ids': array([1.0000e+00, 2.0000e+00, 1.0000e+04, 1.0001e+04, 1.0002e+04,\n",
       "          1.0003e+04, 1.0004e+04]),\n",
       "   'positions': array([[19., 17.],\n",
       "          [ 7., 36.],\n",
       "          [20., 20.],\n",
       "          [22., 19.],\n",
       "          [19., 22.],\n",
       "          [23., 21.],\n",
       "          [21., 23.]])},\n",
       "  15: {'ids': array([1.0000e+00, 2.0000e+00, 1.0000e+04, 1.0001e+04, 1.0002e+04,\n",
       "          1.0003e+04, 1.0004e+04]),\n",
       "   'positions': array([[19., 18.],\n",
       "          [ 8., 35.],\n",
       "          [20., 20.],\n",
       "          [22., 19.],\n",
       "          [19., 22.],\n",
       "          [23., 21.],\n",
       "          [21., 23.]])},\n",
       "  16: {'ids': array([1.0000e+00, 2.0000e+00, 3.0000e+00, 1.0000e+04, 1.0001e+04,\n",
       "          1.0002e+04, 1.0003e+04, 1.0004e+04]),\n",
       "   'positions': array([[19., 18.],\n",
       "          [ 8., 35.],\n",
       "          [14., 19.],\n",
       "          [21., 21.],\n",
       "          [22., 19.],\n",
       "          [19., 22.],\n",
       "          [23., 21.],\n",
       "          [21., 23.]])},\n",
       "  17: {'ids': array([1.0000e+00, 2.0000e+00, 3.0000e+00, 1.0000e+04, 1.0001e+04,\n",
       "          1.0002e+04, 1.0003e+04, 1.0004e+04]),\n",
       "   'positions': array([[20., 17.],\n",
       "          [ 8., 34.],\n",
       "          [15., 18.],\n",
       "          [21., 21.],\n",
       "          [22., 19.],\n",
       "          [19., 22.],\n",
       "          [23., 21.],\n",
       "          [21., 23.]])},\n",
       "  18: {'ids': array([1.0000e+00, 2.0000e+00, 3.0000e+00, 4.0000e+00, 1.0000e+04,\n",
       "          1.0001e+04, 1.0002e+04, 1.0003e+04, 1.0004e+04]),\n",
       "   'positions': array([[21., 18.],\n",
       "          [ 8., 33.],\n",
       "          [16., 17.],\n",
       "          [25., 13.],\n",
       "          [21., 21.],\n",
       "          [22., 19.],\n",
       "          [19., 22.],\n",
       "          [23., 21.],\n",
       "          [21., 23.]])},\n",
       "  19: {'ids': array([1.0000e+00, 2.0000e+00, 3.0000e+00, 4.0000e+00, 1.0000e+04,\n",
       "          1.0001e+04, 1.0002e+04, 1.0003e+04, 1.0004e+04]),\n",
       "   'positions': array([[21., 18.],\n",
       "          [ 8., 32.],\n",
       "          [17., 17.],\n",
       "          [24., 14.],\n",
       "          [21., 21.],\n",
       "          [22., 19.],\n",
       "          [19., 22.],\n",
       "          [23., 21.],\n",
       "          [21., 23.]])},\n",
       "  20: {'ids': array([1.0000e+00, 2.0000e+00, 3.0000e+00, 4.0000e+00, 1.0000e+04,\n",
       "          1.0001e+04, 1.0002e+04, 1.0003e+04, 1.0004e+04]),\n",
       "   'positions': array([[21., 18.],\n",
       "          [ 8., 31.],\n",
       "          [18., 17.],\n",
       "          [23., 15.],\n",
       "          [21., 21.],\n",
       "          [22., 19.],\n",
       "          [19., 22.],\n",
       "          [23., 21.],\n",
       "          [21., 23.]])},\n",
       "  21: {'ids': array([1.0000e+00, 2.0000e+00, 3.0000e+00, 4.0000e+00, 1.0000e+04,\n",
       "          1.0001e+04, 1.0002e+04, 1.0003e+04, 1.0004e+04]),\n",
       "   'positions': array([[21., 18.],\n",
       "          [ 8., 31.],\n",
       "          [18., 17.],\n",
       "          [23., 15.],\n",
       "          [21., 22.],\n",
       "          [23., 20.],\n",
       "          [19., 22.],\n",
       "          [23., 21.],\n",
       "          [21., 24.]])},\n",
       "  22: {'ids': array([1.0000e+00, 2.0000e+00, 3.0000e+00, 4.0000e+00, 1.0000e+04,\n",
       "          1.0001e+04, 1.0002e+04, 1.0003e+04, 1.0004e+04]),\n",
       "   'positions': array([[22., 18.],\n",
       "          [ 8., 30.],\n",
       "          [19., 17.],\n",
       "          [23., 16.],\n",
       "          [21., 22.],\n",
       "          [23., 20.],\n",
       "          [19., 22.],\n",
       "          [23., 21.],\n",
       "          [21., 24.]])},\n",
       "  23: {'ids': array([1.0000e+00, 2.0000e+00, 3.0000e+00, 4.0000e+00, 1.0000e+04,\n",
       "          1.0001e+04, 1.0002e+04, 1.0003e+04, 1.0004e+04]),\n",
       "   'positions': array([[22., 19.],\n",
       "          [ 8., 29.],\n",
       "          [20., 17.],\n",
       "          [23., 17.],\n",
       "          [21., 22.],\n",
       "          [23., 20.],\n",
       "          [19., 22.],\n",
       "          [23., 21.],\n",
       "          [21., 24.]])},\n",
       "  24: {'ids': array([1.0000e+00, 2.0000e+00, 3.0000e+00, 4.0000e+00, 1.0000e+04,\n",
       "          1.0001e+04, 1.0002e+04, 1.0003e+04, 1.0004e+04]),\n",
       "   'positions': array([[22., 19.],\n",
       "          [ 8., 28.],\n",
       "          [21., 17.],\n",
       "          [23., 18.],\n",
       "          [21., 22.],\n",
       "          [23., 20.],\n",
       "          [19., 22.],\n",
       "          [23., 21.],\n",
       "          [21., 24.]])},\n",
       "  25: {'ids': array([1.0000e+00, 2.0000e+00, 3.0000e+00, 4.0000e+00, 1.0000e+04,\n",
       "          1.0001e+04, 1.0002e+04, 1.0003e+04, 1.0004e+04]),\n",
       "   'positions': array([[22., 19.],\n",
       "          [ 8., 27.],\n",
       "          [22., 18.],\n",
       "          [23., 18.],\n",
       "          [21., 22.],\n",
       "          [23., 20.],\n",
       "          [19., 22.],\n",
       "          [23., 21.],\n",
       "          [21., 24.]])},\n",
       "  26: {'ids': array([1.0000e+00, 2.0000e+00, 3.0000e+00, 4.0000e+00, 1.0000e+04,\n",
       "          1.0001e+04, 1.0002e+04, 1.0003e+04, 1.0004e+04]),\n",
       "   'positions': array([[22., 19.],\n",
       "          [ 8., 27.],\n",
       "          [22., 18.],\n",
       "          [23., 18.],\n",
       "          [21., 22.],\n",
       "          [22., 21.],\n",
       "          [19., 22.],\n",
       "          [22., 22.],\n",
       "          [21., 24.]])},\n",
       "  27: {'ids': array([1.0000e+00, 2.0000e+00, 3.0000e+00, 4.0000e+00, 1.0000e+04,\n",
       "          1.0001e+04, 1.0002e+04, 1.0003e+04, 1.0004e+04]),\n",
       "   'positions': array([[21., 20.],\n",
       "          [ 9., 26.],\n",
       "          [22., 18.],\n",
       "          [23., 18.],\n",
       "          [21., 22.],\n",
       "          [22., 21.],\n",
       "          [19., 22.],\n",
       "          [22., 22.],\n",
       "          [21., 24.]])},\n",
       "  28: {'ids': array([1.0000e+00, 2.0000e+00, 3.0000e+00, 4.0000e+00, 1.0000e+04,\n",
       "          1.0001e+04, 1.0002e+04, 1.0003e+04, 1.0004e+04]),\n",
       "   'positions': array([[21., 20.],\n",
       "          [10., 25.],\n",
       "          [22., 18.],\n",
       "          [22., 19.],\n",
       "          [21., 22.],\n",
       "          [22., 21.],\n",
       "          [19., 22.],\n",
       "          [22., 22.],\n",
       "          [21., 24.]])},\n",
       "  29: {'ids': array([1.0000e+00, 2.0000e+00, 3.0000e+00, 4.0000e+00, 1.0000e+04,\n",
       "          1.0001e+04, 1.0002e+04, 1.0003e+04, 1.0004e+04]),\n",
       "   'positions': array([[21., 20.],\n",
       "          [11., 24.],\n",
       "          [22., 18.],\n",
       "          [22., 19.],\n",
       "          [21., 22.],\n",
       "          [22., 21.],\n",
       "          [19., 22.],\n",
       "          [22., 22.],\n",
       "          [21., 24.]])},\n",
       "  30: {'ids': array([1.0000e+00, 2.0000e+00, 3.0000e+00, 4.0000e+00, 1.0000e+04,\n",
       "          1.0001e+04, 1.0002e+04, 1.0003e+04, 1.0004e+04]),\n",
       "   'positions': array([[21., 20.],\n",
       "          [12., 23.],\n",
       "          [22., 18.],\n",
       "          [22., 19.],\n",
       "          [21., 22.],\n",
       "          [22., 21.],\n",
       "          [19., 22.],\n",
       "          [22., 22.],\n",
       "          [21., 24.]])}},\n",
       " 'user_log': <model.SimLog.UserInputs at 0x1b5ba7be820>,\n",
       " 'meta_data': {'config_name': 'config_exp_1',\n",
       "  'session_id': '20220614T164059',\n",
       "  'start_time': datetime.datetime(2022, 6, 14, 16, 41, 39, 504239),\n",
       "  'end_time': datetime.datetime(2022, 6, 14, 16, 41, 41, 579536),\n",
       "  'taskweighted_empowerment': True,\n",
       "  'empowerment_shown': True}}"
      ]
     },
     "execution_count": 21,
     "metadata": {},
     "output_type": "execute_result"
    }
   ],
   "source": [
    "print(f\"The complete simulation data file for session {session_id}, log file {log_file_name}\")\n",
    "sim_data"
   ]
  },
  {
   "cell_type": "markdown",
   "metadata": {},
   "source": [
    "## Accessing the meta data"
   ]
  },
  {
   "cell_type": "code",
   "execution_count": 22,
   "metadata": {},
   "outputs": [
    {
     "name": "stdout",
     "output_type": "stream",
     "text": [
      "Meta data for loaded log file\n",
      "-----------------------------\n"
     ]
    },
    {
     "data": {
      "text/plain": [
       "{'config_name': 'config_exp_1',\n",
       " 'session_id': '20220614T164059',\n",
       " 'start_time': datetime.datetime(2022, 6, 14, 16, 41, 39, 504239),\n",
       " 'end_time': datetime.datetime(2022, 6, 14, 16, 41, 41, 579536),\n",
       " 'taskweighted_empowerment': True,\n",
       " 'empowerment_shown': True}"
      ]
     },
     "execution_count": 22,
     "metadata": {},
     "output_type": "execute_result"
    }
   ],
   "source": [
    "print(\"Meta data for loaded log file\")\n",
    "print(\"-----------------------------\")\n",
    "sim_data['meta_data']"
   ]
  },
  {
   "cell_type": "markdown",
   "metadata": {},
   "source": [
    "## Converting the positions of each agent at each time step into a big numpy table\n",
    "\n",
    "It's useful to convert the world data into a big table to make calculating metrics easier\n",
    "\n",
    "The table is oraganised into the following dimensions:\n",
    "- **rows (dimesion 0)** are time\n",
    "- **columns (dimension 1)** are the agent ids, \n",
    "- **verticals (dimesion 2)** are the cell connents and these are the agents position"
   ]
  },
  {
   "cell_type": "code",
   "execution_count": 23,
   "metadata": {},
   "outputs": [
    {
     "data": {
      "text/plain": [
       "{1: <model.SimLog.AgentState at 0x1b5b82c49a0>,\n",
       " 2: <model.SimLog.AgentState at 0x1b5ba6443a0>,\n",
       " 3: <model.SimLog.AgentState at 0x1b5ba78f8b0>,\n",
       " 4: <model.SimLog.AgentState at 0x1b5ba78fb20>}"
      ]
     },
     "execution_count": 23,
     "metadata": {},
     "output_type": "execute_result"
    }
   ],
   "source": [
    "sim_data['dog_logs']"
   ]
  },
  {
   "cell_type": "code",
   "execution_count": 24,
   "metadata": {},
   "outputs": [],
   "source": [
    "dog_ids = list(sim_data['dog_logs'].keys())\n",
    "sheep_ids = list(sim_data['sheep_logs'].keys())\n",
    "col_names = dog_ids + sheep_ids\n",
    "row_names =  list(sim_data['world_at_t'].keys())\n",
    "#create a big table with 3 dimensions (time, agents, xy-position)\n",
    "# and initialise it with nan\n",
    "world_ts = np.empty((len(row_names), len(col_names),2))\n",
    "world_ts[:] = np.nan\n",
    "\n",
    "#copy the data from the dictionary world_at_t into the big table\n",
    "for t in sim_data['world_at_t'].keys():\n",
    "    # time started from 1 and indexing is from 0\n",
    "    row_idx = t-1\n",
    "    #copy the ids and positions from the dicitonary just to make it a bit easier to read the code\n",
    "    ids = sim_data['world_at_t'][t]['ids']\n",
    "    positions_t = sim_data['world_at_t'][t]['positions']   \n",
    "    #loop through each id stored at time t, find which column has been allocated to the id \n",
    "    # and copy the relevant position from the dictionary to the table\n",
    "    for i,iid in enumerate(ids):\n",
    "        col_idx = np.where(col_names == iid)\n",
    "        #print(f\"row idx {row_idx}, col_idx {col_idx}\")\n",
    "        world_ts[row_idx, col_idx,:] = positions_t[i]"
   ]
  },
  {
   "cell_type": "code",
   "execution_count": 25,
   "metadata": {},
   "outputs": [
    {
     "name": "stdout",
     "output_type": "stream",
     "text": [
      "At time 25:\n",
      "agent 1 was at position [22. 19.]\n",
      "agent 2 was at position [ 8. 27.]\n",
      "agent 3 was at position [22. 18.]\n",
      "agent 4 was at position [23. 18.]\n",
      "agent 10000 was at position [21. 22.]\n",
      "agent 10001 was at position [23. 20.]\n",
      "agent 10002 was at position [19. 22.]\n",
      "agent 10003 was at position [23. 21.]\n",
      "agent 10004 was at position [21. 24.]\n",
      "\n",
      "\n",
      "Note, a value of [nan, nan] means the agent was not present in the world at time 25\n"
     ]
    }
   ],
   "source": [
    "#we can now access the positions of agents at time t using a simple numpy reference\n",
    "t=25\n",
    "positions_at_t = np.squeeze(world_ts[t-1,:,:])\n",
    "\n",
    "print(f\"At time {t}:\")\n",
    "for i,id in enumerate(col_names):\n",
    "    print(f\"agent {id} was at position {positions_at_t[i,:]}\")\n",
    "print(\"\\n\")    \n",
    "print(f\"Note, a value of [nan, nan] means the agent was not present in the world at time {t}\")"
   ]
  },
  {
   "cell_type": "markdown",
   "metadata": {},
   "source": [
    "## Converting the positions of each agent at each time step into a pandas dataframe\n",
    "**This isn't working because pandas initialises its cells to NaN (size (1,1)) and we then want to overwrite the cells one by one with a position of size (2,1).**\n",
    "\n",
    "The numpy code is almost certainly faster but the pandas approach might be easier to read if it worked!"
   ]
  },
  {
   "cell_type": "code",
   "execution_count": 26,
   "metadata": {},
   "outputs": [],
   "source": [
    "# import pandas as pd\n",
    "# import numpy as np\n",
    "# dog_ids = list(sim_data['dog_logs'].keys())\n",
    "# sheep_ids = list(sim_data['sheep_logs'].keys())\n",
    "# # col_names = []\n",
    "# # for iid in dog_ids+sheep_ids:\n",
    "# #     col_names.append(str(iid) +'x')\n",
    "# #     col_names.append(str(iid) +'y')\n",
    "# # print(col_names)\n",
    "\n",
    "# col_names = dog_ids + sheep_ids\n",
    "# #create the empty data frame with the columns are the agent ids and the row index is the time step\n",
    "# world_data_df = pd.DataFrame(index = sim_data['world_at_t'].keys(), columns = col_names, dtype='object')"
   ]
  },
  {
   "cell_type": "code",
   "execution_count": 27,
   "metadata": {},
   "outputs": [],
   "source": [
    "#world_data_df"
   ]
  },
  {
   "cell_type": "code",
   "execution_count": 28,
   "metadata": {},
   "outputs": [],
   "source": [
    "# #now need to populate the cells.  There's probably a fast way to do this but for simplicity, just loop through all the world_at_t entries\n",
    "# for t in sim_data['world_at_t'].keys():\n",
    "#     row_idx = world_data_df.index==t\n",
    "#     ids = sim_data['world_at_t'][t]['ids']\n",
    "#     positions_t = sim_data['world_at_t'][t]['positions']\n",
    "#     for i,iid in enumerate(ids):\n",
    "#         col_idx = world_data_df.columns == iid\n",
    "#         world_data_df.loc[row_idx, col_idx] = [positions_t[i,:]]"
   ]
  },
  {
   "cell_type": "markdown",
   "metadata": {},
   "source": [
    "## The 'dog_logs' and 'sheep_logs' structures\n",
    "The logger contains the state information for each agent as a simLog.AgentState class\n",
    "\n",
    "To access the log of a single agent's state:\n",
    "\n",
    "* **for dogs**: sim_data[\"dog_logs\"][*agent_number*]\n",
    "* **for sheep**: sim_data[\"sheep_logs\"][*agent_number*]\n",
    "\n",
    "Note, the states are only recorded for the time when the agent was present in the simulation.  I.e. if a dog is removed then the state record for that dog ends.  Each new dog is added with a new id and starts a new state record."
   ]
  },
  {
   "cell_type": "code",
   "execution_count": 29,
   "metadata": {},
   "outputs": [
    {
     "data": {
      "text/plain": [
       "<model.SimLog.AgentState at 0x1b5b82c49a0>"
      ]
     },
     "execution_count": 29,
     "metadata": {},
     "output_type": "execute_result"
    }
   ],
   "source": [
    "sim_data['dog_logs'][1]"
   ]
  },
  {
   "cell_type": "markdown",
   "metadata": {},
   "source": [
    "The following properties are available:\n",
    "\n",
    "'id' : an integer\n",
    "\n",
    "'state' : a dictionary with the following entries\n",
    "\n",
    "        {\n",
    "        id': integer\n",
    "        'time_created' : simulation tick #\n",
    "        'time_destroyed': simulation tick #\n",
    "        'postions' : np 2d array where dimension 0 is time and dimesion 1 is x,y position\n",
    "        'empowerment' : np 1d array where cell n is the empowerment of the agent at time ['time'][n]\n",
    "        'time' : the simulation ticks when the agent state was updated, the ith cell relates to the ith cell for 'position' and 'empowerment'\n",
    "        }\n",
    " \n",
    " For example, for a dog agent the state information can be accessed as follows:"
   ]
  },
  {
   "cell_type": "code",
   "execution_count": 30,
   "metadata": {},
   "outputs": [
    {
     "name": "stdout",
     "output_type": "stream",
     "text": [
      "Dog with Id 1\n",
      "at simulation step 0 the dog was created\n",
      "at simulation step 3 the dog was at position [10 10]\n",
      "at simulation step 3 the dog had empowerment 0\n",
      "at simulation step -1 the dog was removed (-1 indicates it was present at the end of the simulation)\n"
     ]
    }
   ],
   "source": [
    "idog = 1\n",
    "id = sim_data['dog_logs'][idog].id\n",
    "tc = sim_data['dog_logs'][idog].state['time_created']\n",
    "td = sim_data['dog_logs'][idog].state['time_destroyed']\n",
    "p = sim_data['dog_logs'][idog].state['positions']\n",
    "time = sim_data['dog_logs'][idog].state['time']\n",
    "empowerment = sim_data['dog_logs'][idog].state['empowerment']\n",
    "\n",
    "print(f\"Dog with Id {id}\")\n",
    "print(f'at simulation step {tc} the dog was created')\n",
    "n=4\n",
    "print(f'at simulation step {time[n]} the dog was at position {p[n,:]}')\n",
    "print(f'at simulation step {time[n]} the dog had empowerment {empowerment[n]}')\n",
    "print(f'at simulation step {td} the dog was removed (-1 indicates it was present at the end of the simulation)')"
   ]
  },
  {
   "cell_type": "markdown",
   "metadata": {},
   "source": [
    "And to see a single agents complete state type:\n",
    "sim_data['*type*_logs'][*agent_number*].state\n",
    "\n",
    "e.g., to see the state of the sheep with id=10000"
   ]
  },
  {
   "cell_type": "code",
   "execution_count": 31,
   "metadata": {
    "scrolled": true
   },
   "outputs": [
    {
     "name": "stdout",
     "output_type": "stream",
     "text": [
      "{'id': 10000, 'time_created': 0, 'time_destroyed': -1, 'positions': array([[20, 20],\n",
      "       [20, 20],\n",
      "       [20, 20],\n",
      "       [20, 20],\n",
      "       [20, 20],\n",
      "       [20, 20],\n",
      "       [20, 20],\n",
      "       [20, 20],\n",
      "       [20, 20],\n",
      "       [20, 20],\n",
      "       [20, 20],\n",
      "       [20, 20],\n",
      "       [20, 20],\n",
      "       [20, 20],\n",
      "       [20, 20],\n",
      "       [20, 20],\n",
      "       [20, 20],\n",
      "       [21, 21],\n",
      "       [21, 21],\n",
      "       [21, 21],\n",
      "       [21, 21],\n",
      "       [21, 21],\n",
      "       [21, 22],\n",
      "       [21, 22],\n",
      "       [21, 22],\n",
      "       [21, 22],\n",
      "       [21, 22],\n",
      "       [21, 22],\n",
      "       [21, 22],\n",
      "       [21, 22],\n",
      "       [21, 22],\n",
      "       [21, 22]]), 'time': array([ 0,  0,  1,  2,  3,  4,  5,  6,  7,  8,  9, 10, 11, 12, 13, 14, 15,\n",
      "       16, 17, 18, 19, 20, 21, 22, 23, 24, 25, 26, 27, 28, 29, 30]), 'empowerment': array([-1, -1, -1, -1, -1, -1, -1, -1, -1, -1, -1, -1, -1, -1, -1, -1, -1,\n",
      "       -1, -1, -1, -1, -1, -1, -1, -1, -1, -1, -1, -1, -1, -1, -1])}\n"
     ]
    }
   ],
   "source": [
    "try:\n",
    "    print(sim_data['sheep_logs'][10000].state)\n",
    "except:\n",
    "    #the beta tests started the sheep ids from 100 so if it's an older log then try this instead\n",
    "    print(sim_data['sheep_logs'][100].state)"
   ]
  },
  {
   "cell_type": "markdown",
   "metadata": {},
   "source": [
    "To plot the empowerment of a dog over the course of a run, combine together the logged empowerment value and the time at which the value was logged. "
   ]
  },
  {
   "cell_type": "code",
   "execution_count": 32,
   "metadata": {},
   "outputs": [
    {
     "name": "stdout",
     "output_type": "stream",
     "text": [
      "(0, -1)\n",
      "(0, 0)\n",
      "(1, 0)\n",
      "(2, 0)\n",
      "(3, 0)\n",
      "(4, 0)\n",
      "(5, 0)\n",
      "(6, 0)\n",
      "(7, 0)\n",
      "(8, 0)\n",
      "(9, 0)\n",
      "(10, 0)\n",
      "(11, 0)\n",
      "(12, 0)\n",
      "(13, 1)\n",
      "(14, 7)\n",
      "(15, 8)\n",
      "(16, 8)\n",
      "(17, 8)\n",
      "(18, 7)\n",
      "(19, 22)\n",
      "(20, 22)\n",
      "(21, 22)\n",
      "(22, 7)\n",
      "(23, 12)\n",
      "(24, 22)\n",
      "(25, 20)\n",
      "(26, 20)\n",
      "(27, 8)\n",
      "(28, 22)\n",
      "(29, 21)\n",
      "(30, 21)\n"
     ]
    }
   ],
   "source": [
    "#e.g. for dog with id 1.  The first column is simulation tick and the second column is empowerment\n",
    "for i in zip(sim_data['dog_logs'][1].state['time'], sim_data['dog_logs'][1].state['empowerment']):\n",
    "    print(i)"
   ]
  },
  {
   "cell_type": "markdown",
   "metadata": {},
   "source": [
    "Using numpy, we can combine the empowerment time series for all dogs into a big table and call it empowerment_ts.  "
   ]
  },
  {
   "cell_type": "code",
   "execution_count": 33,
   "metadata": {},
   "outputs": [
    {
     "name": "stdout",
     "output_type": "stream",
     "text": [
      "The full empowerment table is...\n",
      "(A value of nan means the agent was not present at that time step)\n",
      "\n",
      "\n"
     ]
    },
    {
     "data": {
      "text/plain": [
       "array([[ 0., nan, nan, nan],\n",
       "       [ 0., nan, nan, nan],\n",
       "       [ 0., nan, nan, nan],\n",
       "       [ 0., nan, nan, nan],\n",
       "       [ 0., nan, nan, nan],\n",
       "       [ 0., nan, nan, nan],\n",
       "       [ 0., nan, nan, nan],\n",
       "       [ 0., nan, nan, nan],\n",
       "       [ 0., nan, nan, nan],\n",
       "       [ 0., nan, nan, nan],\n",
       "       [ 0., nan, nan, nan],\n",
       "       [ 0., nan, nan, nan],\n",
       "       [ 0., -1., nan, nan],\n",
       "       [ 1.,  0., nan, nan],\n",
       "       [ 7.,  0., nan, nan],\n",
       "       [ 8.,  0., -1., nan],\n",
       "       [ 8.,  0.,  0., nan],\n",
       "       [ 8.,  0.,  0., -1.],\n",
       "       [ 7.,  0.,  0.,  0.],\n",
       "       [22.,  0.,  0.,  0.],\n",
       "       [22.,  0.,  0.,  0.],\n",
       "       [22.,  0.,  0.,  0.],\n",
       "       [ 7.,  0.,  0.,  0.],\n",
       "       [12.,  0.,  0.,  0.],\n",
       "       [22.,  0.,  0.,  2.],\n",
       "       [20.,  0.,  0.,  7.],\n",
       "       [20.,  0.,  0.,  7.],\n",
       "       [ 8.,  0.,  1.,  0.],\n",
       "       [22.,  0.,  0.,  0.],\n",
       "       [21.,  0.,  0.,  1.],\n",
       "       [21.,  0.,  0.,  1.]])"
      ]
     },
     "execution_count": 33,
     "metadata": {},
     "output_type": "execute_result"
    }
   ],
   "source": [
    "import numpy as np\n",
    "dog_ids = list(sim_data['dog_logs'].keys())\n",
    "col_names = dog_ids\n",
    "row_names =  list(sim_data['world_at_t'].keys())\n",
    "#create a big table with 2 dimensions (time, agents)\n",
    "# and initialise it with nan\n",
    "empowerment_ts = np.empty((len(row_names), len(col_names)))\n",
    "empowerment_ts[:] = np.nan\n",
    "\n",
    "#copy the data from the dictionary world_at_t into the big table\n",
    "for dog_id in sim_data['dog_logs'].keys():\n",
    "    dog_state = sim_data['dog_logs'][dog_id].state\n",
    "    #copy the empowerment\n",
    "    col_idx = np.where(np.asarray(col_names) == dog_id)\n",
    "    row_idx = dog_state['time']\n",
    "    empowerment_ts[row_idx, col_idx] = dog_state['empowerment']\n",
    "\n",
    "print(\"The full empowerment table is...\")\n",
    "print(\"(A value of nan means the agent was not present at that time step)\")\n",
    "print(\"\\n\")\n",
    "empowerment_ts\n"
   ]
  },
  {
   "cell_type": "code",
   "execution_count": 34,
   "metadata": {},
   "outputs": [
    {
     "name": "stdout",
     "output_type": "stream",
     "text": [
      "Or if you really want to handle it as a pandas dataframe\n"
     ]
    },
    {
     "data": {
      "text/html": [
       "<div>\n",
       "<style scoped>\n",
       "    .dataframe tbody tr th:only-of-type {\n",
       "        vertical-align: middle;\n",
       "    }\n",
       "\n",
       "    .dataframe tbody tr th {\n",
       "        vertical-align: top;\n",
       "    }\n",
       "\n",
       "    .dataframe thead th {\n",
       "        text-align: right;\n",
       "    }\n",
       "</style>\n",
       "<table border=\"1\" class=\"dataframe\">\n",
       "  <thead>\n",
       "    <tr style=\"text-align: right;\">\n",
       "      <th></th>\n",
       "      <th>dog0</th>\n",
       "      <th>dog1</th>\n",
       "      <th>dog2</th>\n",
       "      <th>dog3</th>\n",
       "    </tr>\n",
       "    <tr>\n",
       "      <th>tick</th>\n",
       "      <th></th>\n",
       "      <th></th>\n",
       "      <th></th>\n",
       "      <th></th>\n",
       "    </tr>\n",
       "  </thead>\n",
       "  <tbody>\n",
       "    <tr>\n",
       "      <th>0</th>\n",
       "      <td>0.0</td>\n",
       "      <td>NaN</td>\n",
       "      <td>NaN</td>\n",
       "      <td>NaN</td>\n",
       "    </tr>\n",
       "    <tr>\n",
       "      <th>1</th>\n",
       "      <td>0.0</td>\n",
       "      <td>NaN</td>\n",
       "      <td>NaN</td>\n",
       "      <td>NaN</td>\n",
       "    </tr>\n",
       "    <tr>\n",
       "      <th>2</th>\n",
       "      <td>0.0</td>\n",
       "      <td>NaN</td>\n",
       "      <td>NaN</td>\n",
       "      <td>NaN</td>\n",
       "    </tr>\n",
       "    <tr>\n",
       "      <th>3</th>\n",
       "      <td>0.0</td>\n",
       "      <td>NaN</td>\n",
       "      <td>NaN</td>\n",
       "      <td>NaN</td>\n",
       "    </tr>\n",
       "    <tr>\n",
       "      <th>4</th>\n",
       "      <td>0.0</td>\n",
       "      <td>NaN</td>\n",
       "      <td>NaN</td>\n",
       "      <td>NaN</td>\n",
       "    </tr>\n",
       "    <tr>\n",
       "      <th>5</th>\n",
       "      <td>0.0</td>\n",
       "      <td>NaN</td>\n",
       "      <td>NaN</td>\n",
       "      <td>NaN</td>\n",
       "    </tr>\n",
       "    <tr>\n",
       "      <th>6</th>\n",
       "      <td>0.0</td>\n",
       "      <td>NaN</td>\n",
       "      <td>NaN</td>\n",
       "      <td>NaN</td>\n",
       "    </tr>\n",
       "    <tr>\n",
       "      <th>7</th>\n",
       "      <td>0.0</td>\n",
       "      <td>NaN</td>\n",
       "      <td>NaN</td>\n",
       "      <td>NaN</td>\n",
       "    </tr>\n",
       "    <tr>\n",
       "      <th>8</th>\n",
       "      <td>0.0</td>\n",
       "      <td>NaN</td>\n",
       "      <td>NaN</td>\n",
       "      <td>NaN</td>\n",
       "    </tr>\n",
       "    <tr>\n",
       "      <th>9</th>\n",
       "      <td>0.0</td>\n",
       "      <td>NaN</td>\n",
       "      <td>NaN</td>\n",
       "      <td>NaN</td>\n",
       "    </tr>\n",
       "    <tr>\n",
       "      <th>10</th>\n",
       "      <td>0.0</td>\n",
       "      <td>NaN</td>\n",
       "      <td>NaN</td>\n",
       "      <td>NaN</td>\n",
       "    </tr>\n",
       "    <tr>\n",
       "      <th>11</th>\n",
       "      <td>0.0</td>\n",
       "      <td>NaN</td>\n",
       "      <td>NaN</td>\n",
       "      <td>NaN</td>\n",
       "    </tr>\n",
       "    <tr>\n",
       "      <th>12</th>\n",
       "      <td>0.0</td>\n",
       "      <td>-1.0</td>\n",
       "      <td>NaN</td>\n",
       "      <td>NaN</td>\n",
       "    </tr>\n",
       "    <tr>\n",
       "      <th>13</th>\n",
       "      <td>1.0</td>\n",
       "      <td>0.0</td>\n",
       "      <td>NaN</td>\n",
       "      <td>NaN</td>\n",
       "    </tr>\n",
       "    <tr>\n",
       "      <th>14</th>\n",
       "      <td>7.0</td>\n",
       "      <td>0.0</td>\n",
       "      <td>NaN</td>\n",
       "      <td>NaN</td>\n",
       "    </tr>\n",
       "    <tr>\n",
       "      <th>15</th>\n",
       "      <td>8.0</td>\n",
       "      <td>0.0</td>\n",
       "      <td>-1.0</td>\n",
       "      <td>NaN</td>\n",
       "    </tr>\n",
       "    <tr>\n",
       "      <th>16</th>\n",
       "      <td>8.0</td>\n",
       "      <td>0.0</td>\n",
       "      <td>0.0</td>\n",
       "      <td>NaN</td>\n",
       "    </tr>\n",
       "    <tr>\n",
       "      <th>17</th>\n",
       "      <td>8.0</td>\n",
       "      <td>0.0</td>\n",
       "      <td>0.0</td>\n",
       "      <td>-1.0</td>\n",
       "    </tr>\n",
       "    <tr>\n",
       "      <th>18</th>\n",
       "      <td>7.0</td>\n",
       "      <td>0.0</td>\n",
       "      <td>0.0</td>\n",
       "      <td>0.0</td>\n",
       "    </tr>\n",
       "    <tr>\n",
       "      <th>19</th>\n",
       "      <td>22.0</td>\n",
       "      <td>0.0</td>\n",
       "      <td>0.0</td>\n",
       "      <td>0.0</td>\n",
       "    </tr>\n",
       "    <tr>\n",
       "      <th>20</th>\n",
       "      <td>22.0</td>\n",
       "      <td>0.0</td>\n",
       "      <td>0.0</td>\n",
       "      <td>0.0</td>\n",
       "    </tr>\n",
       "    <tr>\n",
       "      <th>21</th>\n",
       "      <td>22.0</td>\n",
       "      <td>0.0</td>\n",
       "      <td>0.0</td>\n",
       "      <td>0.0</td>\n",
       "    </tr>\n",
       "    <tr>\n",
       "      <th>22</th>\n",
       "      <td>7.0</td>\n",
       "      <td>0.0</td>\n",
       "      <td>0.0</td>\n",
       "      <td>0.0</td>\n",
       "    </tr>\n",
       "    <tr>\n",
       "      <th>23</th>\n",
       "      <td>12.0</td>\n",
       "      <td>0.0</td>\n",
       "      <td>0.0</td>\n",
       "      <td>0.0</td>\n",
       "    </tr>\n",
       "    <tr>\n",
       "      <th>24</th>\n",
       "      <td>22.0</td>\n",
       "      <td>0.0</td>\n",
       "      <td>0.0</td>\n",
       "      <td>2.0</td>\n",
       "    </tr>\n",
       "    <tr>\n",
       "      <th>25</th>\n",
       "      <td>20.0</td>\n",
       "      <td>0.0</td>\n",
       "      <td>0.0</td>\n",
       "      <td>7.0</td>\n",
       "    </tr>\n",
       "    <tr>\n",
       "      <th>26</th>\n",
       "      <td>20.0</td>\n",
       "      <td>0.0</td>\n",
       "      <td>0.0</td>\n",
       "      <td>7.0</td>\n",
       "    </tr>\n",
       "    <tr>\n",
       "      <th>27</th>\n",
       "      <td>8.0</td>\n",
       "      <td>0.0</td>\n",
       "      <td>1.0</td>\n",
       "      <td>0.0</td>\n",
       "    </tr>\n",
       "    <tr>\n",
       "      <th>28</th>\n",
       "      <td>22.0</td>\n",
       "      <td>0.0</td>\n",
       "      <td>0.0</td>\n",
       "      <td>0.0</td>\n",
       "    </tr>\n",
       "    <tr>\n",
       "      <th>29</th>\n",
       "      <td>21.0</td>\n",
       "      <td>0.0</td>\n",
       "      <td>0.0</td>\n",
       "      <td>1.0</td>\n",
       "    </tr>\n",
       "    <tr>\n",
       "      <th>30</th>\n",
       "      <td>21.0</td>\n",
       "      <td>0.0</td>\n",
       "      <td>0.0</td>\n",
       "      <td>1.0</td>\n",
       "    </tr>\n",
       "  </tbody>\n",
       "</table>\n",
       "</div>"
      ],
      "text/plain": [
       "      dog0  dog1  dog2  dog3\n",
       "tick                        \n",
       "0      0.0   NaN   NaN   NaN\n",
       "1      0.0   NaN   NaN   NaN\n",
       "2      0.0   NaN   NaN   NaN\n",
       "3      0.0   NaN   NaN   NaN\n",
       "4      0.0   NaN   NaN   NaN\n",
       "5      0.0   NaN   NaN   NaN\n",
       "6      0.0   NaN   NaN   NaN\n",
       "7      0.0   NaN   NaN   NaN\n",
       "8      0.0   NaN   NaN   NaN\n",
       "9      0.0   NaN   NaN   NaN\n",
       "10     0.0   NaN   NaN   NaN\n",
       "11     0.0   NaN   NaN   NaN\n",
       "12     0.0  -1.0   NaN   NaN\n",
       "13     1.0   0.0   NaN   NaN\n",
       "14     7.0   0.0   NaN   NaN\n",
       "15     8.0   0.0  -1.0   NaN\n",
       "16     8.0   0.0   0.0   NaN\n",
       "17     8.0   0.0   0.0  -1.0\n",
       "18     7.0   0.0   0.0   0.0\n",
       "19    22.0   0.0   0.0   0.0\n",
       "20    22.0   0.0   0.0   0.0\n",
       "21    22.0   0.0   0.0   0.0\n",
       "22     7.0   0.0   0.0   0.0\n",
       "23    12.0   0.0   0.0   0.0\n",
       "24    22.0   0.0   0.0   2.0\n",
       "25    20.0   0.0   0.0   7.0\n",
       "26    20.0   0.0   0.0   7.0\n",
       "27     8.0   0.0   1.0   0.0\n",
       "28    22.0   0.0   0.0   0.0\n",
       "29    21.0   0.0   0.0   1.0\n",
       "30    21.0   0.0   0.0   1.0"
      ]
     },
     "execution_count": 34,
     "metadata": {},
     "output_type": "execute_result"
    }
   ],
   "source": [
    "print(\"Or if you really want to handle it as a pandas dataframe\")\n",
    "col_names = [\"dog\"+str(i) for i in range(empowerment_ts.shape[1])]\n",
    "df = pd.DataFrame(empowerment_ts, columns = col_names)\n",
    "df.index.name = 'tick'\n",
    "df"
   ]
  },
  {
   "cell_type": "markdown",
   "metadata": {},
   "source": [
    "Dimesion 0 is time and dimension 1 is the dog id.  The [i,j] cell is therefore the empowerement of dog j at simulation step i."
   ]
  },
  {
   "cell_type": "code",
   "execution_count": 35,
   "metadata": {},
   "outputs": [
    {
     "name": "stdout",
     "output_type": "stream",
     "text": [
      "the dimensions of the table are: (31, 4)\n",
      "the empowerment of dog 0 at t=3 was 0.0\n",
      "Note, a value of nan means the agent was not present in the world at time 3\n"
     ]
    }
   ],
   "source": [
    "t = 3\n",
    "dog_id = 1\n",
    "# python indexes from 0 but ids start at 1\n",
    "dog_id = dog_id - 1\n",
    "print(\"the dimensions of the table are:\" + \" \" + str(empowerment_ts.shape))\n",
    "print(f\"the empowerment of dog {dog_id} at t={t} was {empowerment_ts[t,dog_id]}\")\n",
    "print(f\"Note, a value of nan means the agent was not present in the world at time {t}\")\n"
   ]
  },
  {
   "cell_type": "markdown",
   "metadata": {},
   "source": [
    "## Accessing the logs of what the participant did\n",
    "sim_data['user_log'] is a data structure which stores all the user interactions which occured during the simulation. \n",
    "\n",
    "It has two parts\n",
    "- **sim_data['user_log'].events_at_t** : the agent events which were caused by user input\n",
    "- **sim_data['user_log'].input_at_t** : the user inputs (button presses, times and locations)"
   ]
  },
  {
   "cell_type": "markdown",
   "metadata": {},
   "source": [
    "### sim_data['user_log'].events_at_t \n",
    "When a user interacts with the simulation, a data \"frame\" is created in the form of a dictionary with the following structure:\n",
    "\n",
    "    {\n",
    "        'id' : ordered list of the agent id's affected by the user\n",
    "        'event : ordered list of the action taken on each id (either add or remove)\n",
    "        'grid_position' : the grid square the mouse click occured in (this is **not** the same as the screen coordinates)\n",
    "    }\n",
    "\n",
    "The frames are stored in a further dictiory that can be indexed by the simulation timestep at which the event took place\n",
    "\n",
    "e.g. *sim_data['user_log'].events_at_t[t]* accesses the \"frame\" at time t.\n",
    "\n",
    "and *sim_data['user_log'].events_at_t[5]['id']* will return the list of affected ids at t=5."
   ]
  },
  {
   "cell_type": "markdown",
   "metadata": {},
   "source": [
    "To see **all** time steps the particpant interacted on"
   ]
  },
  {
   "cell_type": "code",
   "execution_count": 36,
   "metadata": {},
   "outputs": [
    {
     "data": {
      "text/plain": [
       "{0: {'id': [10000, 10001, 10002, 10003, 10004, 1],\n",
       "  'event': ['add', 'add', 'add', 'add', 'add', 'add'],\n",
       "  'grid_position': [(20, 20), (22, 19), (19, 22), (23, 21), (21, 23), (8, 8)]},\n",
       " 12: {'id': [2],\n",
       "  'event': ['add'],\n",
       "  'grid_position': [array([ 6, 38], dtype=int64)]},\n",
       " 15: {'id': [3],\n",
       "  'event': ['add'],\n",
       "  'grid_position': [array([14, 19], dtype=int64)]},\n",
       " 17: {'id': [4],\n",
       "  'event': ['add'],\n",
       "  'grid_position': [array([26, 12], dtype=int64)]}}"
      ]
     },
     "execution_count": 36,
     "metadata": {},
     "output_type": "execute_result"
    }
   ],
   "source": [
    "sim_data['user_log'].events_at_t"
   ]
  },
  {
   "cell_type": "markdown",
   "metadata": {},
   "source": [
    "and to see what the user did at time t..."
   ]
  },
  {
   "cell_type": "code",
   "execution_count": 37,
   "metadata": {},
   "outputs": [
    {
     "name": "stdout",
     "output_type": "stream",
     "text": [
      "no participant interaction at t=10\n"
     ]
    }
   ],
   "source": [
    "t=10\n",
    "if t not in sim_data['user_log'].events_at_t.keys():\n",
    "    print(f\"no participant interaction at t={t}\")\n",
    "else:\n",
    "    print(sim_data['user_log'].events_at_t[t])"
   ]
  },
  {
   "cell_type": "markdown",
   "metadata": {},
   "source": [
    "### sim_data['user_log'].input_at_t\n",
    "The actual inputs the participant made are recorded and stored in sim_data['user_log'].input_at_t.\n",
    "\n",
    "The indexing and structure is very similar to sim_data['user_log'].events_at_t except the frame created when a user interacts with the simulation has different fields:\n",
    "\n",
    "    {\n",
    "        'type': the name of the (mouse) button pressed\n",
    "        'screen_position': the position of the mouse pointer on the **screen** when the button was pressed\n",
    "        'grid_position': the position of the mouse pointer on the **window** when the button was pressed\n",
    "        'realtime': the realworld time of the event, has the format datetime.datetime(yyyy, mm, dd, hh, mm, ss, microsecond)\n",
    "\n",
    "    }\n",
    "    \n",
    "**Important note**, because in principle more than one event can occur at a single time step, each of the fields is a python list.\n",
    "\n",
    "So to see **all** the inputs recorded during the simulation..."
   ]
  },
  {
   "cell_type": "code",
   "execution_count": 38,
   "metadata": {},
   "outputs": [
    {
     "data": {
      "text/plain": [
       "{12: {'type': ['MB:DOWN:LEFT'],\n",
       "  'screen_position': [(381, 71)],\n",
       "  'grid_position': [array([ 7, 38])],\n",
       "  'realtime': [datetime.datetime(2022, 6, 14, 16, 41, 40, 300029)]},\n",
       " 15: {'type': ['MB:DOWN:LEFT'],\n",
       "  'screen_position': [(188, 163)],\n",
       "  'grid_position': [array([16, 19])],\n",
       "  'realtime': [datetime.datetime(2022, 6, 14, 16, 41, 40, 502485)]},\n",
       " 17: {'type': ['MB:DOWN:LEFT'],\n",
       "  'screen_position': [(143, 276)],\n",
       "  'grid_position': [array([28, 14])],\n",
       "  'realtime': [datetime.datetime(2022, 6, 14, 16, 41, 40, 634133)]}}"
      ]
     },
     "execution_count": 38,
     "metadata": {},
     "output_type": "execute_result"
    }
   ],
   "source": [
    "sim_data['user_log'].input_at_t"
   ]
  },
  {
   "cell_type": "markdown",
   "metadata": {},
   "source": [
    "We can see the specific input the user made on time step t by typing sim_data['user_log'].input_at_t[t]"
   ]
  },
  {
   "cell_type": "code",
   "execution_count": 41,
   "metadata": {},
   "outputs": [
    {
     "name": "stdout",
     "output_type": "stream",
     "text": [
      "{'type': ['MB:DOWN:LEFT'], 'screen_position': [(381, 71)], 'grid_position': [array([ 7, 38])], 'realtime': [datetime.datetime(2022, 6, 14, 16, 41, 40, 300029)]}\n"
     ]
    }
   ],
   "source": [
    "t=12\n",
    "if t not in sim_data['user_log'].input_at_t.keys():\n",
    "    print(f\"no participant interaction at t={t}\")\n",
    "else:\n",
    "    print(sim_data['user_log'].input_at_t[t])"
   ]
  },
  {
   "cell_type": "markdown",
   "metadata": {},
   "source": [
    "and to access the time of the input at timestep t"
   ]
  },
  {
   "cell_type": "code",
   "execution_count": 42,
   "metadata": {},
   "outputs": [
    {
     "name": "stdout",
     "output_type": "stream",
     "text": [
      "2022-06-14 16:41:40.300029\n"
     ]
    }
   ],
   "source": [
    "t=12\n",
    "if t not in sim_data['user_log'].input_at_t.keys():\n",
    "    print(f\"no participant interaction at t={t}\")\n",
    "else:\n",
    "    print(sim_data['user_log'].input_at_t[t]['realtime'][0])"
   ]
  },
  {
   "cell_type": "markdown",
   "metadata": {},
   "source": [
    "### Create a pandas data frame of the user events\n",
    "Instead of accessing events using the dictonary stuctures of the previous section, we can combine events_at_t and input_at_t into a single pandas data frame holding all the events for a single trial.  \n",
    "\n",
    "The approach can be extended to create a list of dataframes (or your favourite flavour of array-like structure) to hold the results from multiple trials and experiments. \n",
    "\n"
   ]
  },
  {
   "cell_type": "markdown",
   "metadata": {},
   "source": [
    "First load the log file..."
   ]
  },
  {
   "cell_type": "code",
   "execution_count": 43,
   "metadata": {},
   "outputs": [],
   "source": [
    "# we did this at the start of the simulation section"
   ]
  },
  {
   "cell_type": "markdown",
   "metadata": {},
   "source": [
    "Next, load the \"input_at_t\" dictionary into a data frame indexed by the times at which events took place.  "
   ]
  },
  {
   "cell_type": "code",
   "execution_count": 44,
   "metadata": {},
   "outputs": [],
   "source": [
    "df_user_inputs = pd.DataFrame.from_dict(sim_data['user_log'].input_at_t, orient='index')\n",
    "df_user_inputs.index.name = 'sim_time'"
   ]
  },
  {
   "cell_type": "code",
   "execution_count": 45,
   "metadata": {},
   "outputs": [
    {
     "data": {
      "text/html": [
       "<div>\n",
       "<style scoped>\n",
       "    .dataframe tbody tr th:only-of-type {\n",
       "        vertical-align: middle;\n",
       "    }\n",
       "\n",
       "    .dataframe tbody tr th {\n",
       "        vertical-align: top;\n",
       "    }\n",
       "\n",
       "    .dataframe thead th {\n",
       "        text-align: right;\n",
       "    }\n",
       "</style>\n",
       "<table border=\"1\" class=\"dataframe\">\n",
       "  <thead>\n",
       "    <tr style=\"text-align: right;\">\n",
       "      <th></th>\n",
       "      <th>type</th>\n",
       "      <th>screen_position</th>\n",
       "      <th>grid_position</th>\n",
       "      <th>realtime</th>\n",
       "    </tr>\n",
       "    <tr>\n",
       "      <th>sim_time</th>\n",
       "      <th></th>\n",
       "      <th></th>\n",
       "      <th></th>\n",
       "      <th></th>\n",
       "    </tr>\n",
       "  </thead>\n",
       "  <tbody>\n",
       "    <tr>\n",
       "      <th>12</th>\n",
       "      <td>[MB:DOWN:LEFT]</td>\n",
       "      <td>[(381, 71)]</td>\n",
       "      <td>[[7, 38]]</td>\n",
       "      <td>[2022-06-14 16:41:40.300029]</td>\n",
       "    </tr>\n",
       "    <tr>\n",
       "      <th>15</th>\n",
       "      <td>[MB:DOWN:LEFT]</td>\n",
       "      <td>[(188, 163)]</td>\n",
       "      <td>[[16, 19]]</td>\n",
       "      <td>[2022-06-14 16:41:40.502485]</td>\n",
       "    </tr>\n",
       "    <tr>\n",
       "      <th>17</th>\n",
       "      <td>[MB:DOWN:LEFT]</td>\n",
       "      <td>[(143, 276)]</td>\n",
       "      <td>[[28, 14]]</td>\n",
       "      <td>[2022-06-14 16:41:40.634133]</td>\n",
       "    </tr>\n",
       "  </tbody>\n",
       "</table>\n",
       "</div>"
      ],
      "text/plain": [
       "                    type screen_position grid_position  \\\n",
       "sim_time                                                 \n",
       "12        [MB:DOWN:LEFT]     [(381, 71)]     [[7, 38]]   \n",
       "15        [MB:DOWN:LEFT]    [(188, 163)]    [[16, 19]]   \n",
       "17        [MB:DOWN:LEFT]    [(143, 276)]    [[28, 14]]   \n",
       "\n",
       "                              realtime  \n",
       "sim_time                                \n",
       "12        [2022-06-14 16:41:40.300029]  \n",
       "15        [2022-06-14 16:41:40.502485]  \n",
       "17        [2022-06-14 16:41:40.634133]  "
      ]
     },
     "execution_count": 45,
     "metadata": {},
     "output_type": "execute_result"
    }
   ],
   "source": [
    "df_user_inputs"
   ]
  },
  {
   "cell_type": "markdown",
   "metadata": {},
   "source": [
    "Now load the events_at_t into a data frame indexed by the times at which events took place."
   ]
  },
  {
   "cell_type": "code",
   "execution_count": 46,
   "metadata": {},
   "outputs": [],
   "source": [
    "events_df = pd.DataFrame.from_dict(sim_data['user_log'].events_at_t, orient='index')\n",
    "events_df.index.name = 'sim_time'"
   ]
  },
  {
   "cell_type": "code",
   "execution_count": 47,
   "metadata": {},
   "outputs": [
    {
     "data": {
      "text/html": [
       "<div>\n",
       "<style scoped>\n",
       "    .dataframe tbody tr th:only-of-type {\n",
       "        vertical-align: middle;\n",
       "    }\n",
       "\n",
       "    .dataframe tbody tr th {\n",
       "        vertical-align: top;\n",
       "    }\n",
       "\n",
       "    .dataframe thead th {\n",
       "        text-align: right;\n",
       "    }\n",
       "</style>\n",
       "<table border=\"1\" class=\"dataframe\">\n",
       "  <thead>\n",
       "    <tr style=\"text-align: right;\">\n",
       "      <th></th>\n",
       "      <th>id</th>\n",
       "      <th>event</th>\n",
       "      <th>grid_position</th>\n",
       "    </tr>\n",
       "    <tr>\n",
       "      <th>sim_time</th>\n",
       "      <th></th>\n",
       "      <th></th>\n",
       "      <th></th>\n",
       "    </tr>\n",
       "  </thead>\n",
       "  <tbody>\n",
       "    <tr>\n",
       "      <th>0</th>\n",
       "      <td>[10000, 10001, 10002, 10003, 10004, 1]</td>\n",
       "      <td>[add, add, add, add, add, add]</td>\n",
       "      <td>[(20, 20), (22, 19), (19, 22), (23, 21), (21, ...</td>\n",
       "    </tr>\n",
       "    <tr>\n",
       "      <th>12</th>\n",
       "      <td>[2]</td>\n",
       "      <td>[add]</td>\n",
       "      <td>[[6, 38]]</td>\n",
       "    </tr>\n",
       "    <tr>\n",
       "      <th>15</th>\n",
       "      <td>[3]</td>\n",
       "      <td>[add]</td>\n",
       "      <td>[[14, 19]]</td>\n",
       "    </tr>\n",
       "    <tr>\n",
       "      <th>17</th>\n",
       "      <td>[4]</td>\n",
       "      <td>[add]</td>\n",
       "      <td>[[26, 12]]</td>\n",
       "    </tr>\n",
       "  </tbody>\n",
       "</table>\n",
       "</div>"
      ],
      "text/plain": [
       "                                              id  \\\n",
       "sim_time                                           \n",
       "0         [10000, 10001, 10002, 10003, 10004, 1]   \n",
       "12                                           [2]   \n",
       "15                                           [3]   \n",
       "17                                           [4]   \n",
       "\n",
       "                                   event  \\\n",
       "sim_time                                   \n",
       "0         [add, add, add, add, add, add]   \n",
       "12                                 [add]   \n",
       "15                                 [add]   \n",
       "17                                 [add]   \n",
       "\n",
       "                                              grid_position  \n",
       "sim_time                                                     \n",
       "0         [(20, 20), (22, 19), (19, 22), (23, 21), (21, ...  \n",
       "12                                                [[6, 38]]  \n",
       "15                                               [[14, 19]]  \n",
       "17                                               [[26, 12]]  "
      ]
     },
     "execution_count": 47,
     "metadata": {},
     "output_type": "execute_result"
    }
   ],
   "source": [
    "events_df"
   ]
  },
  {
   "cell_type": "markdown",
   "metadata": {},
   "source": [
    "Finally, combine user_inputs and events_df into a single data frame called events_df"
   ]
  },
  {
   "cell_type": "code",
   "execution_count": 48,
   "metadata": {},
   "outputs": [],
   "source": [
    "#do a bit of processing to concatinate the user inputs and the agent events into a single table\n",
    "df = events_df\n",
    "df['screen_click_coords'] = df_user_inputs['screen_position']\n",
    "df['user_input'] = df_user_inputs['type']\n",
    "df['grid_click_coords'] = df_user_inputs['grid_position']\n",
    "df['time_of_input'] = df_user_inputs['realtime']\n",
    "df.rename(columns = {'id':'agent_id', 'grid_position' : 'event_position'})\n",
    "events_df = df"
   ]
  },
  {
   "cell_type": "code",
   "execution_count": 49,
   "metadata": {},
   "outputs": [
    {
     "data": {
      "text/html": [
       "<div>\n",
       "<style scoped>\n",
       "    .dataframe tbody tr th:only-of-type {\n",
       "        vertical-align: middle;\n",
       "    }\n",
       "\n",
       "    .dataframe tbody tr th {\n",
       "        vertical-align: top;\n",
       "    }\n",
       "\n",
       "    .dataframe thead th {\n",
       "        text-align: right;\n",
       "    }\n",
       "</style>\n",
       "<table border=\"1\" class=\"dataframe\">\n",
       "  <thead>\n",
       "    <tr style=\"text-align: right;\">\n",
       "      <th></th>\n",
       "      <th>id</th>\n",
       "      <th>event</th>\n",
       "      <th>grid_position</th>\n",
       "      <th>screen_click_coords</th>\n",
       "      <th>user_input</th>\n",
       "      <th>grid_click_coords</th>\n",
       "      <th>time_of_input</th>\n",
       "    </tr>\n",
       "    <tr>\n",
       "      <th>sim_time</th>\n",
       "      <th></th>\n",
       "      <th></th>\n",
       "      <th></th>\n",
       "      <th></th>\n",
       "      <th></th>\n",
       "      <th></th>\n",
       "      <th></th>\n",
       "    </tr>\n",
       "  </thead>\n",
       "  <tbody>\n",
       "    <tr>\n",
       "      <th>0</th>\n",
       "      <td>[10000, 10001, 10002, 10003, 10004, 1]</td>\n",
       "      <td>[add, add, add, add, add, add]</td>\n",
       "      <td>[(20, 20), (22, 19), (19, 22), (23, 21), (21, ...</td>\n",
       "      <td>NaN</td>\n",
       "      <td>NaN</td>\n",
       "      <td>NaN</td>\n",
       "      <td>NaN</td>\n",
       "    </tr>\n",
       "    <tr>\n",
       "      <th>12</th>\n",
       "      <td>[2]</td>\n",
       "      <td>[add]</td>\n",
       "      <td>[[6, 38]]</td>\n",
       "      <td>[(381, 71)]</td>\n",
       "      <td>[MB:DOWN:LEFT]</td>\n",
       "      <td>[[7, 38]]</td>\n",
       "      <td>[2022-06-14 16:41:40.300029]</td>\n",
       "    </tr>\n",
       "    <tr>\n",
       "      <th>15</th>\n",
       "      <td>[3]</td>\n",
       "      <td>[add]</td>\n",
       "      <td>[[14, 19]]</td>\n",
       "      <td>[(188, 163)]</td>\n",
       "      <td>[MB:DOWN:LEFT]</td>\n",
       "      <td>[[16, 19]]</td>\n",
       "      <td>[2022-06-14 16:41:40.502485]</td>\n",
       "    </tr>\n",
       "    <tr>\n",
       "      <th>17</th>\n",
       "      <td>[4]</td>\n",
       "      <td>[add]</td>\n",
       "      <td>[[26, 12]]</td>\n",
       "      <td>[(143, 276)]</td>\n",
       "      <td>[MB:DOWN:LEFT]</td>\n",
       "      <td>[[28, 14]]</td>\n",
       "      <td>[2022-06-14 16:41:40.634133]</td>\n",
       "    </tr>\n",
       "  </tbody>\n",
       "</table>\n",
       "</div>"
      ],
      "text/plain": [
       "                                              id  \\\n",
       "sim_time                                           \n",
       "0         [10000, 10001, 10002, 10003, 10004, 1]   \n",
       "12                                           [2]   \n",
       "15                                           [3]   \n",
       "17                                           [4]   \n",
       "\n",
       "                                   event  \\\n",
       "sim_time                                   \n",
       "0         [add, add, add, add, add, add]   \n",
       "12                                 [add]   \n",
       "15                                 [add]   \n",
       "17                                 [add]   \n",
       "\n",
       "                                              grid_position  \\\n",
       "sim_time                                                      \n",
       "0         [(20, 20), (22, 19), (19, 22), (23, 21), (21, ...   \n",
       "12                                                [[6, 38]]   \n",
       "15                                               [[14, 19]]   \n",
       "17                                               [[26, 12]]   \n",
       "\n",
       "         screen_click_coords      user_input grid_click_coords  \\\n",
       "sim_time                                                         \n",
       "0                        NaN             NaN               NaN   \n",
       "12               [(381, 71)]  [MB:DOWN:LEFT]         [[7, 38]]   \n",
       "15              [(188, 163)]  [MB:DOWN:LEFT]        [[16, 19]]   \n",
       "17              [(143, 276)]  [MB:DOWN:LEFT]        [[28, 14]]   \n",
       "\n",
       "                         time_of_input  \n",
       "sim_time                                \n",
       "0                                  NaN  \n",
       "12        [2022-06-14 16:41:40.300029]  \n",
       "15        [2022-06-14 16:41:40.502485]  \n",
       "17        [2022-06-14 16:41:40.634133]  "
      ]
     },
     "execution_count": 49,
     "metadata": {},
     "output_type": "execute_result"
    }
   ],
   "source": [
    "events_df"
   ]
  },
  {
   "cell_type": "markdown",
   "metadata": {},
   "source": [
    "Side note, there are two measurement systems for position used in the simulation.\n",
    "\n",
    "The simulation uses a grid world to track the position of the agents.  grid_position is where the participant clicked on that grid.  \n",
    "\n",
    "The simulation displays the graphical elements at a given resolution.  screen_click_coords is the where the participant clicked on the screen relative to the screen's top left position (TODO: check it's definietly top left!).\n",
    "\n"
   ]
  },
  {
   "cell_type": "code",
   "execution_count": null,
   "metadata": {},
   "outputs": [],
   "source": []
  },
  {
   "cell_type": "code",
   "execution_count": null,
   "metadata": {},
   "outputs": [],
   "source": []
  }
 ],
 "metadata": {
  "kernelspec": {
   "display_name": "Python 3 (ipykernel)",
   "language": "python",
   "name": "python3"
  },
  "language_info": {
   "codemirror_mode": {
    "name": "ipython",
    "version": 3
   },
   "file_extension": ".py",
   "mimetype": "text/x-python",
   "name": "python",
   "nbconvert_exporter": "python",
   "pygments_lexer": "ipython3",
   "version": "3.9.7"
  }
 },
 "nbformat": 4,
 "nbformat_minor": 2
}
